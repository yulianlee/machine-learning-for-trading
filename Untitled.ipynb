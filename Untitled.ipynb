{
 "cells": [
  {
   "cell_type": "code",
   "execution_count": 23,
   "id": "0239b0d0-29ed-411e-8df4-70e96e3e1090",
   "metadata": {},
   "outputs": [
    {
     "ename": "ModuleNotFoundError",
     "evalue": "No module named 'browser_use'",
     "output_type": "error",
     "traceback": [
      "\u001b[0;31m---------------------------------------------------------------------------\u001b[0m",
      "\u001b[0;31mModuleNotFoundError\u001b[0m                       Traceback (most recent call last)",
      "Cell \u001b[0;32mIn[23], line 1\u001b[0m\n\u001b[0;32m----> 1\u001b[0m \u001b[38;5;28;01mfrom\u001b[39;00m \u001b[38;5;21;01mbrowser_use\u001b[39;00m \u001b[38;5;28;01mimport\u001b[39;00m Agent  \u001b[38;5;66;03m# Replace with your actual import\u001b[39;00m\n\u001b[1;32m      2\u001b[0m \u001b[38;5;28;01mfrom\u001b[39;00m \u001b[38;5;21;01mlangchain_openai\u001b[39;00m \u001b[38;5;28;01mimport\u001b[39;00m ChatOpenAI\n\u001b[1;32m      3\u001b[0m \u001b[38;5;28;01mfrom\u001b[39;00m \u001b[38;5;21;01mdotenv\u001b[39;00m \u001b[38;5;28;01mimport\u001b[39;00m load_dotenv\n",
      "\u001b[0;31mModuleNotFoundError\u001b[0m: No module named 'browser_use'"
     ]
    }
   ],
   "source": [
    "from browser_use import Agent  # Replace with your actual import\n",
    "from langchain_openai import ChatOpenAI\n",
    "from dotenv import load_dotenv\n",
    "import asyncio\n",
    "import inspect\n",
    "\n",
    "# Load environment variables\n",
    "load_dotenv()\n",
    "\n",
    "# Get the module name of the third-party library\n",
    "library_module = \"browser_use\"  # Replace with the actual module name\n",
    "\n",
    "# Monkey patch all methods in the third-party library's classes\n",
    "for name, cls in inspect.getmembers(Agent, inspect.isclass):\n",
    "    if cls.__module__.startswith(library_module):  # Filter by module\n",
    "        for method_name, method in inspect.getmembers(cls, inspect.isfunction):\n",
    "            if not method_name.startswith(\"_\"):  # Avoid private methods\n",
    "                original_method = method\n",
    "\n",
    "                async def logged_method(*args, **kwargs):\n",
    "                    self = args[0]  # First argument is the instance (self)\n",
    "                    if self.__class__.__module__.startswith(library_module):\n",
    "                        print(f\"Calling {self.__class__.__name__}.{method_name} with args: {args[1:]}, kwargs: {kwargs}\")\n",
    "                    return await original_method(*args, **kwargs)\n",
    "\n",
    "                setattr(cls, method_name, logged_method)\n",
    "\n",
    "# Create the LLM instance\n",
    "llm = ChatOpenAI(model=\"gpt-4\")\n",
    "\n",
    "async def main():\n",
    "    agent = Agent(\n",
    "        task=\"Compare the price of gpt-4 and DeepSeek-V3\",\n",
    "        llm=llm,\n",
    "    )\n",
    "    result = await agent.run()  # This will log method calls from the Agent class\n",
    "    print(result)\n",
    "\n",
    "asyncio.run(main())"
   ]
  },
  {
   "cell_type": "code",
   "execution_count": null,
   "id": "c29e9c55-072a-4629-9cfa-d158e772cc6b",
   "metadata": {},
   "outputs": [],
   "source": []
  },
  {
   "cell_type": "code",
   "execution_count": null,
   "id": "66070a49-81c1-46f4-a335-34f9f4be9bbe",
   "metadata": {},
   "outputs": [],
   "source": []
  },
  {
   "cell_type": "code",
   "execution_count": null,
   "id": "511f5704-33ad-4e30-a8fd-bd6eebbf6128",
   "metadata": {},
   "outputs": [],
   "source": []
  },
  {
   "cell_type": "code",
   "execution_count": null,
   "id": "284ed92e-850e-4afd-a51b-5acb94588273",
   "metadata": {},
   "outputs": [],
   "source": []
  }
 ],
 "metadata": {
  "kernelspec": {
   "display_name": "Python 3 (ipykernel)",
   "language": "python",
   "name": "python3"
  },
  "language_info": {
   "codemirror_mode": {
    "name": "ipython",
    "version": 3
   },
   "file_extension": ".py",
   "mimetype": "text/x-python",
   "name": "python",
   "nbconvert_exporter": "python",
   "pygments_lexer": "ipython3",
   "version": "3.12.7"
  }
 },
 "nbformat": 4,
 "nbformat_minor": 5
}
